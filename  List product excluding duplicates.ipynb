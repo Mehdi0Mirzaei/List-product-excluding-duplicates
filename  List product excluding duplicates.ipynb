{
 "cells": [
  {
   "cell_type": "code",
   "execution_count": 51,
   "id": "b8c7ea6e",
   "metadata": {},
   "outputs": [
    {
     "name": "stdout",
     "output_type": "stream",
     "text": [
      "The original list is : [2, 3, 4, 6, 3, 4, 8, 9, 6, 1, 1, 3, 10, 11, 7, 8]\n",
      "Duplication removal list product : 7983360\n"
     ]
    }
   ],
   "source": [
    "def prod(val):\n",
    "    res = 1\n",
    "    for ele in val:\n",
    "        res *= ele\n",
    "    return res\n",
    " \n",
    " # initializing list\n",
    "lst2=[2,3,4,6,3,4,8,9,6,1,1,3,10,11,7,8]\n",
    "print(\"The original list is : \" + str(lst2))\n",
    " \n",
    "# using naive method\n",
    "# Duplication Removal List Product\n",
    "res = []\n",
    "for i in lst2:\n",
    "    if i not in res:\n",
    "        res.append(i)\n",
    "res = prod(res)\n",
    " \n",
    "# printing list after removal\n",
    "print(\"Duplication removal list product : \" + str(res))"
   ]
  },
  {
   "cell_type": "code",
   "execution_count": 45,
   "id": "b8ad7a9b",
   "metadata": {},
   "outputs": [],
   "source": [
    "lst2=[2,3,4,6,3,4,8,9,6,1,1,3,10,11,7,8]"
   ]
  },
  {
   "cell_type": "code",
   "execution_count": 52,
   "id": "42a9cc61",
   "metadata": {},
   "outputs": [
    {
     "name": "stdout",
     "output_type": "stream",
     "text": [
      "The original list is : [2, 3, 4, 6, 3, 4, 8, 9, 6, 1, 1, 3, 10, 11, 7, 8]\n",
      "Duplication removal list product : 7983360\n"
     ]
    }
   ],
   "source": [
    "def prod(val):\n",
    "    res = 1\n",
    "    for ele in val:\n",
    "        res *= ele\n",
    "    return res\n",
    " \n",
    " # initializing list\n",
    "lst2=[2,3,4,6,3,4,8,9,6,1,1,3,10,11,7,8]\n",
    "print(\"The original list is : \" + str(lst2))\n",
    " \n",
    "# using list comprehension\n",
    "# Duplication Removal List Product\n",
    "res = []\n",
    "[res.append(x) for x in lst2 if x not in res]\n",
    "res = prod(res)\n",
    " \n",
    "# printing list after removal\n",
    "print(\"Duplication removal list product : \" + str(res))"
   ]
  },
  {
   "cell_type": "code",
   "execution_count": 53,
   "id": "00730f0a",
   "metadata": {},
   "outputs": [
    {
     "data": {
      "text/plain": [
       "7983360"
      ]
     },
     "execution_count": 53,
     "metadata": {},
     "output_type": "execute_result"
    }
   ],
   "source": [
    "import functools\n",
    " \n",
    "functools.reduce(lambda x, y: x*y, set([2,3,4,6,3,4,8,9,6,1,1,3,10,11,7,8]), 1)"
   ]
  },
  {
   "cell_type": "code",
   "execution_count": 55,
   "id": "7e7610e5",
   "metadata": {},
   "outputs": [
    {
     "name": "stdout",
     "output_type": "stream",
     "text": [
      "The original list is : [2, 3, 4, 6, 3, 4, 8, 9, 6, 1, 1, 3, 10, 11, 7, 8]\n",
      "Duplication removal list product : 7983360\n"
     ]
    }
   ],
   "source": [
    "lst2 = [2, 3, 4, 6, 3, 4, 8, 9, 6, 1, 1, 3, 10, 11, 7, 8]\n",
    "print(\"The original list is : \" + str(lst2))\n",
    " \n",
    "# using naive method\n",
    "# Duplication Removal List Product\n",
    "x = list(set(lst2))\n",
    "prod = 1\n",
    "for i in x:\n",
    "    prod *= i\n",
    " # printing list after removal\n",
    "print(\"Duplication removal list product : \" + str(prod))"
   ]
  },
  {
   "cell_type": "code",
   "execution_count": 56,
   "id": "e1c2d6cb",
   "metadata": {},
   "outputs": [],
   "source": [
    "import math\n",
    " \n",
    "def product(list):\n",
    "    s = set(list)\n",
    "    return (math.prod(s))"
   ]
  },
  {
   "cell_type": "code",
   "execution_count": 57,
   "id": "f96de4e5",
   "metadata": {},
   "outputs": [
    {
     "data": {
      "text/plain": [
       "7983360"
      ]
     },
     "execution_count": 57,
     "metadata": {},
     "output_type": "execute_result"
    }
   ],
   "source": [
    "product(lst2)"
   ]
  },
  {
   "cell_type": "code",
   "execution_count": 58,
   "id": "803249be",
   "metadata": {},
   "outputs": [
    {
     "name": "stdout",
     "output_type": "stream",
     "text": [
      "The original list is : [2, 3, 4, 6, 3, 4, 8, 9, 6, 1, 1, 3, 10, 11, 7, 8]\n",
      "Duplication removal list product : 7983360\n"
     ]
    }
   ],
   "source": [
    "import numpy as np\n",
    "  \n",
    "# initializing list\n",
    "lst2 = [2, 3, 4, 6, 3, 4, 8, 9, 6, 1, 1, 3, 10, 11, 7, 8]\n",
    "print(\"The original list is : \" + str(test_list))\n",
    "  \n",
    "# converting list to numpy array and finding unique elements\n",
    "unique_array = np.unique(np.array(lst2))\n",
    "  \n",
    "# finding product of unique elements\n",
    "result = np.prod(unique_array)\n",
    "  \n",
    "# printing result\n",
    "print(\"Duplication removal list product : \" + str(result))"
   ]
  },
  {
   "cell_type": "code",
   "execution_count": null,
   "id": "320d81c0",
   "metadata": {},
   "outputs": [],
   "source": []
  }
 ],
 "metadata": {
  "kernelspec": {
   "display_name": "Python 3 (ipykernel)",
   "language": "python",
   "name": "python3"
  },
  "language_info": {
   "codemirror_mode": {
    "name": "ipython",
    "version": 3
   },
   "file_extension": ".py",
   "mimetype": "text/x-python",
   "name": "python",
   "nbconvert_exporter": "python",
   "pygments_lexer": "ipython3",
   "version": "3.9.13"
  }
 },
 "nbformat": 4,
 "nbformat_minor": 5
}
